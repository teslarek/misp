{
 "cells": [
  {
   "cell_type": "code",
   "execution_count": null,
   "metadata": {
    "colab": {
     "base_uri": "https://localhost:8080/"
    },
    "id": "FXd46LiZdzuZ",
    "outputId": "644eca6d-0d4b-4e6f-c70c-bec9bd760af6"
   },
   "outputs": [
    {
     "name": "stdout",
     "output_type": "stream",
     "text": [
      "Collecting pulp\n",
      "\u001b[?25l  Downloading https://files.pythonhosted.org/packages/89/0c/6d80f5f81a92d1733cc5ca180491b8a3cd5839e335627a0046c81b7d3d3d/PuLP-2.3.1-py3-none-any.whl (40.6MB)\n",
      "\u001b[K     |████████████████████████████████| 40.6MB 107kB/s \n",
      "\u001b[?25hCollecting amply>=0.1.2\n",
      "  Downloading https://files.pythonhosted.org/packages/f3/c5/dfa09dd2595a2ab2ab4e6fa7bebef9565812722e1980d04b0edce5032066/amply-0.1.4-py3-none-any.whl\n",
      "Requirement already satisfied: pyparsing in /usr/local/lib/python3.6/dist-packages (from amply>=0.1.2->pulp) (2.4.7)\n",
      "Requirement already satisfied: docutils>=0.3 in /usr/local/lib/python3.6/dist-packages (from amply>=0.1.2->pulp) (0.16)\n",
      "Installing collected packages: amply, pulp\n",
      "Successfully installed amply-0.1.4 pulp-2.3.1\n",
      "Reading package lists... Done\n",
      "Building dependency tree       \n",
      "Reading state information... Done\n",
      "The following additional packages will be installed:\n",
      "  coinor-libcbc3 coinor-libcgl1 coinor-libclp1 coinor-libcoinutils3v5\n",
      "  coinor-libosi1v5 libamd2 libcolamd2 libglpk40 libsuitesparseconfig5\n",
      "Suggested packages:\n",
      "  libiodbc2-dev default-libmysqlclient-dev\n",
      "The following NEW packages will be installed:\n",
      "  coinor-cbc coinor-clp coinor-libcbc3 coinor-libcgl1 coinor-libclp1\n",
      "  coinor-libcoinutils3v5 coinor-libosi1v5 glpk-utils libamd2 libcolamd2\n",
      "  libglpk40 libsuitesparseconfig5\n",
      "0 upgraded, 12 newly installed, 0 to remove and 14 not upgraded.\n",
      "Need to get 3,439 kB of archives.\n",
      "After this operation, 9,832 kB of additional disk space will be used.\n",
      "Get:1 http://archive.ubuntu.com/ubuntu bionic/main amd64 libsuitesparseconfig5 amd64 1:5.1.2-2 [9,044 B]\n",
      "Get:2 http://archive.ubuntu.com/ubuntu bionic/main amd64 libamd2 amd64 1:5.1.2-2 [19.5 kB]\n",
      "Get:3 http://archive.ubuntu.com/ubuntu bionic/main amd64 libcolamd2 amd64 1:5.1.2-2 [16.2 kB]\n",
      "Get:4 http://archive.ubuntu.com/ubuntu bionic/universe amd64 libglpk40 amd64 4.65-1 [378 kB]\n",
      "Get:5 http://archive.ubuntu.com/ubuntu bionic/universe amd64 glpk-utils amd64 4.65-1 [269 kB]\n",
      "Get:6 http://archive.ubuntu.com/ubuntu bionic/universe amd64 coinor-libcoinutils3v5 amd64 2.10.14+repack1-1 [472 kB]\n",
      "Get:7 http://archive.ubuntu.com/ubuntu bionic/universe amd64 coinor-libosi1v5 amd64 0.107.9+repack1-1 [270 kB]\n",
      "Get:8 http://archive.ubuntu.com/ubuntu bionic/universe amd64 coinor-libclp1 amd64 1.16.11+repack1-1 [863 kB]\n",
      "Get:9 http://archive.ubuntu.com/ubuntu bionic/universe amd64 coinor-libcgl1 amd64 0.59.10+repack1-1 [433 kB]\n",
      "Get:10 http://archive.ubuntu.com/ubuntu bionic/universe amd64 coinor-libcbc3 amd64 2.9.9+repack1-1 [687 kB]\n",
      "Get:11 http://archive.ubuntu.com/ubuntu bionic/universe amd64 coinor-cbc amd64 2.9.9+repack1-1 [11.2 kB]\n",
      "Get:12 http://archive.ubuntu.com/ubuntu bionic/universe amd64 coinor-clp amd64 1.16.11+repack1-1 [9,646 B]\n",
      "Fetched 3,439 kB in 2s (2,086 kB/s)\n",
      "debconf: unable to initialize frontend: Dialog\n",
      "debconf: (No usable dialog-like program is installed, so the dialog based frontend cannot be used. at /usr/share/perl5/Debconf/FrontEnd/Dialog.pm line 76, <> line 12.)\n",
      "debconf: falling back to frontend: Readline\n",
      "debconf: unable to initialize frontend: Readline\n",
      "debconf: (This frontend requires a controlling tty.)\n",
      "debconf: falling back to frontend: Teletype\n",
      "dpkg-preconfigure: unable to re-open stdin: \n",
      "Selecting previously unselected package libsuitesparseconfig5:amd64.\n",
      "(Reading database ... 144793 files and directories currently installed.)\n",
      "Preparing to unpack .../00-libsuitesparseconfig5_1%3a5.1.2-2_amd64.deb ...\n",
      "Unpacking libsuitesparseconfig5:amd64 (1:5.1.2-2) ...\n",
      "Selecting previously unselected package libamd2:amd64.\n",
      "Preparing to unpack .../01-libamd2_1%3a5.1.2-2_amd64.deb ...\n",
      "Unpacking libamd2:amd64 (1:5.1.2-2) ...\n",
      "Selecting previously unselected package libcolamd2:amd64.\n",
      "Preparing to unpack .../02-libcolamd2_1%3a5.1.2-2_amd64.deb ...\n",
      "Unpacking libcolamd2:amd64 (1:5.1.2-2) ...\n",
      "Selecting previously unselected package libglpk40:amd64.\n",
      "Preparing to unpack .../03-libglpk40_4.65-1_amd64.deb ...\n",
      "Unpacking libglpk40:amd64 (4.65-1) ...\n",
      "Selecting previously unselected package glpk-utils.\n",
      "Preparing to unpack .../04-glpk-utils_4.65-1_amd64.deb ...\n",
      "Unpacking glpk-utils (4.65-1) ...\n",
      "Selecting previously unselected package coinor-libcoinutils3v5.\n",
      "Preparing to unpack .../05-coinor-libcoinutils3v5_2.10.14+repack1-1_amd64.deb ...\n",
      "Unpacking coinor-libcoinutils3v5 (2.10.14+repack1-1) ...\n",
      "Selecting previously unselected package coinor-libosi1v5.\n",
      "Preparing to unpack .../06-coinor-libosi1v5_0.107.9+repack1-1_amd64.deb ...\n",
      "Unpacking coinor-libosi1v5 (0.107.9+repack1-1) ...\n",
      "Selecting previously unselected package coinor-libclp1.\n",
      "Preparing to unpack .../07-coinor-libclp1_1.16.11+repack1-1_amd64.deb ...\n",
      "Unpacking coinor-libclp1 (1.16.11+repack1-1) ...\n",
      "Selecting previously unselected package coinor-libcgl1.\n",
      "Preparing to unpack .../08-coinor-libcgl1_0.59.10+repack1-1_amd64.deb ...\n",
      "Unpacking coinor-libcgl1 (0.59.10+repack1-1) ...\n",
      "Selecting previously unselected package coinor-libcbc3.\n",
      "Preparing to unpack .../09-coinor-libcbc3_2.9.9+repack1-1_amd64.deb ...\n",
      "Unpacking coinor-libcbc3 (2.9.9+repack1-1) ...\n",
      "Selecting previously unselected package coinor-cbc.\n",
      "Preparing to unpack .../10-coinor-cbc_2.9.9+repack1-1_amd64.deb ...\n",
      "Unpacking coinor-cbc (2.9.9+repack1-1) ...\n",
      "Selecting previously unselected package coinor-clp.\n",
      "Preparing to unpack .../11-coinor-clp_1.16.11+repack1-1_amd64.deb ...\n",
      "Unpacking coinor-clp (1.16.11+repack1-1) ...\n",
      "Setting up libsuitesparseconfig5:amd64 (1:5.1.2-2) ...\n",
      "Setting up libcolamd2:amd64 (1:5.1.2-2) ...\n",
      "Setting up coinor-libcoinutils3v5 (2.10.14+repack1-1) ...\n",
      "Setting up coinor-libosi1v5 (0.107.9+repack1-1) ...\n",
      "Setting up coinor-libclp1 (1.16.11+repack1-1) ...\n",
      "Setting up libamd2:amd64 (1:5.1.2-2) ...\n",
      "Setting up coinor-libcgl1 (0.59.10+repack1-1) ...\n",
      "Setting up libglpk40:amd64 (4.65-1) ...\n",
      "Setting up coinor-clp (1.16.11+repack1-1) ...\n",
      "Setting up coinor-libcbc3 (2.9.9+repack1-1) ...\n",
      "Setting up glpk-utils (4.65-1) ...\n",
      "Setting up coinor-cbc (2.9.9+repack1-1) ...\n",
      "Processing triggers for man-db (2.8.3-2ubuntu0.1) ...\n",
      "Processing triggers for libc-bin (2.27-3ubuntu1.2) ...\n",
      "/sbin/ldconfig.real: /usr/local/lib/python3.6/dist-packages/ideep4py/lib/libmkldnn.so.0 is not a symbolic link\n",
      "\n"
     ]
    }
   ],
   "source": [
    "!pip install pulp\n",
    "\n",
    "!sudo apt-get install coinor-cbc glpk-utils coinor-clp"
   ]
  },
  {
   "cell_type": "code",
   "execution_count": 1,
   "metadata": {},
   "outputs": [
    {
     "name": "stdout",
     "output_type": "stream",
     "text": [
      "2.3.1\n"
     ]
    }
   ],
   "source": [
    "import pulp\n",
    "print(pulp.__version__)"
   ]
  },
  {
   "cell_type": "markdown",
   "metadata": {},
   "source": [
    "Minimalne straty w mostku\n",
    "\n",
    "| Rezystor     | Napięcie[v] |prąd[mA]|\n",
    "|------------|-------------------||\n",
    "| R1    | 6              |4|\n",
    "|R2|10|2|\n",
    "| R3     | 4              | 2|\n",
    "| R4       | 7                |2|\n",
    "| R5 | 3                 |4|"
   ]
  },
  {
   "cell_type": "code",
   "execution_count": null,
   "metadata": {
    "colab": {
     "base_uri": "https://localhost:8080/"
    },
    "id": "csYXkTLmfBwA",
    "outputId": "6c9ca7ae-36a9-4f4e-f44f-4bfe7728950c"
   },
   "outputs": [
    {
     "name": "stdout",
     "output_type": "stream",
     "text": [
      "Status: Optimal\n",
      "minalna moc: 52.0 W\n",
      "[A] : [Ohm]: {('i1', 'R1'): ('3.0', 2.0), ('i2', 'R2'): ('1.0', 10.0), ('i3', 'R3'): ('2.0', 2.0), ('i4', 'R4'): ('1.0', 7.0), ('i5', 'R5'): ('3.0', 1.0)}\n"
     ]
    }
   ],
   "source": [
    "from pulp import *\n",
    "\n",
    "U = [6,10,4,7,3]\n",
    "\n",
    "prob = LpProblem(\"MiinimalnaMoc\",LpMinimize)\n",
    "\n",
    "i1=LpVariable(\"i1\",0,None,LpContinuous)\n",
    "i2=LpVariable(\"i2\",0,None,LpContinuous)\n",
    "i3=LpVariable(\"i3\",0,None,LpContinuous)\n",
    "i4=LpVariable(\"i4\",0,None,LpContinuous)\n",
    "i5=LpVariable(\"i5\",0,None,LpContinuous)\n",
    "\n",
    "prob += 6*i1 + 10*i2 + 4*i3 + 7*i4 + 3*i5\n",
    "\n",
    "\n",
    "prob += i1+i2 == i4+i5\n",
    "prob += i1 == i3+i4\n",
    "prob += i2 == i5-i3\n",
    "\n",
    "\n",
    "prob += i1 >= 3\n",
    "prob += i1 <= 5\n",
    "prob += i2 >= 1\n",
    "prob += i2 <= 3\n",
    "prob += i3 >= 1\n",
    "prob += i3 <= 3\n",
    "prob += i4 >= 1\n",
    "prob += i4 <= 3\n",
    "prob += i5 >= 3\n",
    "prob += i5 <= 5\n",
    "\n",
    "prob.writeLP(\"MiinimalnaMoc.lp\")\n",
    "prob.solve()\n",
    "\n",
    "varsdict = {}\n",
    "\n",
    "j = 0\n",
    "for v in prob.variables():\n",
    "    varsdict[v.name,\"R\"+str(j+1)] = str(v.varValue), U[j]/v.varValue\n",
    "    j += 1\n",
    "\n",
    "\n",
    "print(\"Status:\", LpStatus[prob.status])\n",
    "print(\"minalna moc: {} W\".format(value(prob.objective)))\n",
    "print(\"[A] : [Ohm]: {}\".format(varsdict))"
   ]
  },
  {
   "cell_type": "markdown",
   "metadata": {},
   "source": [
    "Maksymalny prad, który może popłynąć przez układ rezystorów\n",
    "\n",
    "|     | R |I |     \n",
    "|------------|-------------------|----------\n",
    "| R1    |   8      | 2 |\n",
    "|   R2       |    6               |   3  \n",
    "|   R3      |    4               |   4  \n",
    "|   R4      |    10|2\n",
    "|R5|8|2\n"
   ]
  },
  {
   "cell_type": "code",
   "execution_count": null,
   "metadata": {
    "colab": {
     "base_uri": "https://localhost:8080/"
    },
    "id": "_zVSsgGbimdR",
    "outputId": "ded6d9a8-05fa-4872-9edf-8c1dd83d4310"
   },
   "outputs": [
    {
     "name": "stdout",
     "output_type": "stream",
     "text": [
      "Status: Optimal\n",
      "\n",
      "Maksymalny prad dwojnika 3.6 A\n",
      "\n",
      "Wartości prądów gdzie maksymalizowany jest prąd dwójnika\n",
      "I1 = 1.5428571\n",
      "I2 = 2.0571429\n",
      "I3 = 3.6\n",
      "I4 = 1.6\n",
      "I5 = 2.0\n"
     ]
    }
   ],
   "source": [
    "from pulp import *\n",
    "\n",
    "#problem statement\n",
    "prob = LpProblem(\"maksDwojnika\",LpMaximize)\n",
    "\n",
    "I1 = LpVariable(\"I1\",0,None,LpContinuous)\n",
    "I2 = LpVariable(\"I2\",0,None,LpContinuous)\n",
    "I3 = LpVariable(\"I3\",0,None,LpContinuous)\n",
    "I4 = LpVariable(\"I4\",0,None,LpContinuous)\n",
    "I5 = LpVariable(\"I5\",0,None,LpContinuous)\n",
    "\n",
    "prob += I3, \"SumaPradow\" \n",
    "\n",
    "prob += I1 + I2 == I3, \"suma1\"\n",
    "prob += I5 + I4 == I3, \"suma2\"\n",
    "\n",
    "prob += I1*8 == I2*6, \"Ohm1\"\n",
    "prob += I5*8 == I4*10, \"Ohm2\"\n",
    "\n",
    "prob += I1 <= 2, \"Ogr_I1\"\n",
    "prob += I2 <= 3, \"Ogr_I2\"\n",
    "prob += I3 <= 4, \"Ogr_I3\"\n",
    "prob += I4 <= 2, \"Ogr_I4\"\n",
    "prob += I5 <= 2, \"Ogr_I5\"\n",
    "\n",
    "\n",
    "prob.solve()\n",
    "print (\"Status:\", LpStatus[prob.status])\n",
    "print()\n",
    "print(\"Maksymalny prad dwojnika\",prob.objective.value(),\"A\")\n",
    "print()\n",
    "print(\"Wartości prądów gdzie maksymalizowany jest prąd dwójnika\")\n",
    "for v in prob.variables():\n",
    "    print (v.name, \"=\", v.varValue)\n"
   ]
  }
 ],
 "metadata": {
  "colab": {
   "name": "elektrotechnika.ipynb",
   "provenance": []
  },
  "kernelspec": {
   "display_name": "Python 3",
   "language": "python",
   "name": "python3"
  },
  "language_info": {
   "codemirror_mode": {
    "name": "ipython",
    "version": 3
   },
   "file_extension": ".py",
   "mimetype": "text/x-python",
   "name": "python",
   "nbconvert_exporter": "python",
   "pygments_lexer": "ipython3",
   "version": "3.8.3"
  }
 },
 "nbformat": 4,
 "nbformat_minor": 1
}
