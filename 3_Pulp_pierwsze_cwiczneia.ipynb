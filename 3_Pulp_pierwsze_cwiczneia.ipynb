{
 "cells": [
  {
   "cell_type": "markdown",
   "metadata": {},
   "source": [
    "# Zadania:\n",
    "\n",
    "1. przeczytaj materiały dotyczące pulp ze strony internetowej https://coin-or.github.io/pulp/main/index.html oraz przejdź przez blending problem (przepisz do swojego notebooka)\n",
    "\n",
    "2. w blending problem dodaj zmienną decyzyjną. Stwórz zmienną która pojawi się w końcowym składzie produktu (tj. wartość zmiennej będzie miała niezerową postać)\n",
    "\n",
    "3. Dodaj ograniczenie co do zawartości witaminy B \n",
    "\n",
    "Zawartość:\n",
    "\n",
    "| Nazwa      | zawartość ug/100g |\n",
    "|------------|-------------------|\n",
    "| chicken    | 0.3               |\n",
    "| beef       | 2.6               |\n",
    "| mutton     | 2.6               |\n",
    "| rice       | 0                 |\n",
    "| wheat bran | 0                 |\n",
    "| gel        | 0                 |\n",
    "| sardines   | 8.9               |\n",
    "\n",
    "Kot ma zjeść minimum 0.24 ug na kilogram masy więc około\n",
    "0.8 ug dziennie\n",
    "\n",
    "4. Na końcu ma pojawiać się zdanie podsumowujące wynik, w stylu:\n",
    "Końcowy produkt będzie kosztować {}, będzie miał w składzie {nazwa}: {} %, {nastepna nazwa}: {} %\n",
    "\n",
    "Takie zdanie można skleić z części generowanych automatycznie:\n"
   ]
  },
  {
   "cell_type": "code",
   "execution_count": null,
   "metadata": {},
   "outputs": [],
   "source": [
    "!pip install pulp\n",
    "\n",
    "!sudo apt-get install coinor-cbc glpk-utils coinor-clp"
   ]
  },
  {
   "cell_type": "code",
   "execution_count": 1,
   "metadata": {},
   "outputs": [
    {
     "name": "stdout",
     "output_type": "stream",
     "text": [
      "2.3.1\n"
     ]
    }
   ],
   "source": [
    "import pulp\n",
    "print(pulp.__version__)"
   ]
  },
  {
   "cell_type": "markdown",
   "metadata": {},
   "source": [
    "## Simplified Formulation\n",
    "Zadanie polegało na rozwiazaniu problemu wytwarzania karmy najtaniej jak jest to możliwe, jednoczesnie spełniając warunki jakie narzucają ograniczenia co do wartości odżywczych. <br />\n",
    "**Zmienne decyzyjne:**\n",
    "\n",
    "x1 = kurczak <br />\n",
    "x2 = wołowina <br />\n",
    "x3 = sardynki <br />\n",
    "\n",
    "**Funkcja celu:**\n",
    "\n",
    "Minimalizacja kosztów wytowrzenia karmy\n",
    "\n",
    "min(0.013x1 + 0.008x2 + 0.003x3)\n",
    "\n",
    "**Ograniczenia:**\n",
    "\n",
    "*   Procentówa suma składników == 100%\n",
    "*   Proteiny >= 8g/100g\n",
    "*   Tłuszcz >= 6g/100g\n",
    "*   Błonnik <= 2g/100g\n",
    "*   Sól <= 0.4g/100g\n",
    "*   Witamina B >= 0.8ug/100g"
   ]
  },
  {
   "cell_type": "code",
   "execution_count": 2,
   "metadata": {},
   "outputs": [
    {
     "name": "stdout",
     "output_type": "stream",
     "text": [
      "Status: Optimal\n",
      "Beef = 37.5\n",
      "Chicken = 45.0\n",
      "Sardines = 17.5\n",
      "Końcowy produkt będzie kosztować 0.9375, bedzie miał w składzie Chicken=45.0%, Beef=37.5%, Sardines=17.5%. \n",
      "\n"
     ]
    },
    {
     "name": "stderr",
     "output_type": "stream",
     "text": [
      "/home/arek/miniconda3/lib/python3.8/site-packages/pulp/pulp.py:1198: UserWarning: Spaces are not permitted in the name. Converted to '_'\n",
      "  warnings.warn(\"Spaces are not permitted in the name. Converted to '_'\")\n"
     ]
    }
   ],
   "source": [
    "#Simplified Formulation\n",
    "\n",
    "# Import PuLP modeler functions\n",
    "from pulp import *\n",
    "\n",
    "# Create the 'prob' variable to contain the problem data\n",
    "prob = LpProblem(\"The Whiskas Problem\",LpMinimize)\n",
    "\n",
    "# The 2 variables Beef and Chicken are created with a lower limit of zero\n",
    "x1=LpVariable(\"Chicken\",0,None,LpInteger)\n",
    "x2=LpVariable(\"Beef\",0)\n",
    "x3=LpVariable(\"Sardines\",0)\n",
    "\n",
    "# The objective function is added to 'prob' first\n",
    "prob += 0.013*x1 + 0.008*x2 + 0.003*x3, \"Total Cost of Ingredients per can\"\n",
    "\n",
    "# The five constraints are entered\n",
    "prob += x1 + x2 + x3 == 100, \"PercentagesSum\"\n",
    "prob += 0.100*x1 + 0.200*x2 + 0.050*x3 >= 8.0, \"ProteinRequirement\"\n",
    "prob += 0.080*x1 + 0.100*x2 + 0.020*x3 >= 6.0, \"FatRequirement\"\n",
    "prob += 0.001*x1 + 0.005*x2 + 0.100*x3 <= 2.0, \"FibreRequirement\"\n",
    "prob += 0.002*x1 + 0.005*x2 + 0.007*x3 <= 0.4, \"SaltRequirement\"\n",
    "prob += 0.003*x1 + 0.002*x2 + 0.400*x3 >= 0.8, \"VitaminRequirement\"\n",
    "\n",
    "# The problem data is written to an .lp file\n",
    "prob.writeLP(\"WhiskasModel.lp\")\n",
    "\n",
    "# The problem is solved using PuLP's choice of Solver\n",
    "prob.solve()\n",
    "\n",
    "# The status of the solution is printed to the screen\n",
    "print (\"Status:\", LpStatus[prob.status])\n",
    "\n",
    "# Each of the variables is printed with it's resolved optimum value\n",
    "for v in prob.variables():\n",
    "    print (v.name, \"=\", v.varValue)\n",
    "\n",
    "\n",
    "print (\"Końcowy produkt będzie kosztować {}, bedzie miał w składzie {}={}%, {}={}%, {}={}%. \\n\".format(value(prob.objective), x1.name, x1.value(), x2.name, x2.value(), x3.name, x3.value()))\n",
    "\n",
    "# The optimised objective function value is printed to the screen\n",
    "#print (\"Total Cost of Ingredients per can = \", value(prob.objective))"
   ]
  },
  {
   "cell_type": "markdown",
   "metadata": {},
   "source": [
    "## Full Formulation\n",
    "Analogiczne zadanie do poprzedniego, zrealizowane w bardizej rozbudowanej formie, z dokładniej okreslonymi danymi i stworzonymi ogrnaiczeniami. <br />\n"
   ]
  },
  {
   "cell_type": "code",
   "execution_count": 6,
   "metadata": {},
   "outputs": [
    {
     "name": "stdout",
     "output_type": "stream",
     "text": [
      "Status: Optimal\n",
      "Ingr_BEEF = 58.156817\n",
      "Ingr_CHICKEN = 0.0\n",
      "Ingr_GEL = 24.751024\n",
      "Ingr_MUTTON = 0.0\n",
      "Ingr_RICE = 15.75249\n",
      "Ingr_SARDINES = 1.3396694\n",
      "Ingr_WHEAT = 0.0\n",
      "\n",
      "Końcowy produkt będzie kosztować 0.92341136 \n",
      "Bedzie miał w składzie BEEF:58.156817%, CHICKEN:0.0%, GEL:24.751024%, MUTTON:0.0%, RICE:15.75249%, SARDINES:1.3396694%, WHEAT:0.0 \n",
      "\n"
     ]
    }
   ],
   "source": [
    "#Full Formulation\n",
    "\n",
    "# Import PuLP modeler functions\n",
    "from pulp import *\n",
    "\n",
    "Ingredients = ['CHICKEN', 'BEEF', 'MUTTON', 'RICE', 'WHEAT', 'GEL', 'SARDINES']\n",
    "\n",
    "# A dictionary of the costs of each of the Ingredients is created\n",
    "costs = {'CHICKEN': 0.013, \n",
    "         'BEEF': 0.008, \n",
    "         'MUTTON': 0.010, \n",
    "         'RICE': 0.002, \n",
    "         'WHEAT': 0.005, \n",
    "         'GEL': 0.001,\n",
    "         'SARDINES': 0.300}\n",
    "\n",
    "\n",
    "# A dictionary of the protein percent in each of the Ingredients is created\n",
    "proteinPercent = {'CHICKEN': 0.100, \n",
    "                  'BEEF': 0.200, \n",
    "                  'MUTTON': 0.150, \n",
    "                  'RICE': 0.000, \n",
    "                  'WHEAT': 0.040, \n",
    "                  'GEL': 0.000,\n",
    "                  'SARDINES': 0.050}\n",
    "\n",
    "# A dictionary of the fat percent in each of the Ingredients is created\n",
    "fatPercent = {'CHICKEN': 0.080, \n",
    "              'BEEF': 0.100, \n",
    "              'MUTTON': 0.110, \n",
    "              'RICE': 0.010, \n",
    "              'WHEAT': 0.010, \n",
    "              'GEL': 0.000,\n",
    "              'SARDINES': 0.020}\n",
    "\n",
    "# A dictionary of the fibre percent in each of the Ingredients is created\n",
    "fibrePercent = {'CHICKEN': 0.001, \n",
    "                'BEEF': 0.005, \n",
    "                'MUTTON': 0.003, \n",
    "                'RICE': 0.100, \n",
    "                'WHEAT': 0.150, \n",
    "                'GEL': 0.000,\n",
    "                'SARDINES': 0.100}\n",
    "\n",
    "# A dictionary of the salt percent in each of the Ingredients is created\n",
    "saltPercent = {'CHICKEN': 0.002, \n",
    "               'BEEF': 0.005, \n",
    "               'MUTTON': 0.007, \n",
    "               'RICE': 0.002, \n",
    "               'WHEAT': 0.008, \n",
    "               'GEL': 0.000,\n",
    "               'SARDINES': 0.007}\n",
    "\n",
    "# A dictionary of the Vitamin percent in each of the Ingredients is created\n",
    "vitaminPercent = {'CHICKEN': 0.004, \n",
    "               'BEEF': 0.004, \n",
    "               'MUTTON': 0.004, \n",
    "               'RICE': 0.002, \n",
    "               'WHEAT': 0.004, \n",
    "               'GEL': 0.000,\n",
    "               'SARDINES': 0.400}\n",
    "\n",
    "# Create the 'prob' variable to contain the problem data\n",
    "prob = LpProblem(\"The Whiskas Problem\", LpMinimize)\n",
    "# A dictionary called 'ingredient_vars' is created to contain the referenced Variables\n",
    "ingredient_vars = LpVariable.dicts(\"Ingr\",Ingredients,0)\n",
    "# The objective function is added to 'prob' first\n",
    "prob += lpSum([costs[i]*ingredient_vars[i] for i in Ingredients]), \"Total Cost of Ingredients per can\"\n",
    "# The five constraints are added to 'prob'\n",
    "prob += lpSum([ingredient_vars[i] for i in Ingredients]) == 100, \"PercentagesSum\"\n",
    "prob += lpSum([proteinPercent[i] * ingredient_vars[i] for i in Ingredients]) >= 8.0, \"ProteinRequirement\"\n",
    "prob += lpSum([fatPercent[i] * ingredient_vars[i] for i in Ingredients]) >= 6.0, \"FatRequirement\"\n",
    "prob += lpSum([fibrePercent[i] * ingredient_vars[i] for i in Ingredients]) <= 2.0, \"FibreRequirement\"\n",
    "prob += lpSum([saltPercent[i] * ingredient_vars[i] for i in Ingredients]) <= 0.4, \"SaltRequirement\"\n",
    "prob += lpSum([vitaminPercent[i] * ingredient_vars[i] for i in Ingredients]) >= 0.8, \"VitaminRequirement\"\n",
    "\n",
    "prob.writeLP(\"WhiskasModel.lp\")\n",
    "\n",
    "# The problem is solved using PuLP's choice of Solver\n",
    "prob.solve()\n",
    "\n",
    "# The status of the solution is printed to the screen\n",
    "print (\"Status:\", LpStatus[prob.status])\n",
    "\n",
    "# Each of the variables is printed with it's resolved optimum value\n",
    "for v in prob.variables():\n",
    "    print (v.name, \"=\", v.varValue)\n",
    "    \n",
    "\n",
    "sklejone_produkt_cena = [\":\".join((name, str(v.varValue))) for name,v in zip(['BEEF', 'CHICKEN','GEL', 'MUTTON', 'RICE','SARDINES', 'WHEAT'],prob.variables())]\n",
    "sklejona_calosc = \"%, \".join(sklejone_produkt_cena)\n",
    "print()\n",
    "print (\"Końcowy produkt będzie kosztować\",value(prob.objective),\"\\nBedzie miał w składzie\",sklejona_calosc,\"\\n\")\n",
    "\n",
    "# The optimised objective function value is printed to the screen\n",
    "#print (\"Total Cost of Ingredients per can = \", value(prob.objective))"
   ]
  },
  {
   "cell_type": "code",
   "execution_count": null,
   "metadata": {},
   "outputs": [],
   "source": []
  }
 ],
 "metadata": {
  "kernelspec": {
   "display_name": "Python 3",
   "language": "python",
   "name": "python3"
  },
  "language_info": {
   "codemirror_mode": {
    "name": "ipython",
    "version": 3
   },
   "file_extension": ".py",
   "mimetype": "text/x-python",
   "name": "python",
   "nbconvert_exporter": "python",
   "pygments_lexer": "ipython3",
   "version": "3.8.3"
  }
 },
 "nbformat": 4,
 "nbformat_minor": 4
}
