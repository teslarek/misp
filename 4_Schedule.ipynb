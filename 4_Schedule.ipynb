{
 "cells": [
  {
   "cell_type": "markdown",
   "metadata": {},
   "source": [
    "Dla ograniczen: <br />\n",
    "1.Ograniczenia dostępności pracowników według tabeli <br />\n",
    "2.Ograniczenie minimalnej liczby osób danego dnia <br />\n",
    "3.Ograniczenia minimalnej i maksymalnej liczby przepracownych dni pracowników, w tygodniu (min 1, max 3)\n",
    "\n",
    "| Imię       | dzien tygodnia    | płaca   |\n",
    "|------------|-------------------|---------|\n",
    "| ANIA       | kazdy             | 100/h   |\n",
    "| STEFAN     | pon               | 50/h    |\n",
    "| HEKTOR     | pon, wto, sro     |  60/h   |\n",
    "| OLAF       | kazdy             | 40/h    |\n",
    "| LIDIA      | czw, pio          |  110/h  |\n",
    "| PIOTR      | pon, wto, sro     |  70/h   |\n",
    "\n",
    "\n",
    "\n",
    "| pon  | wto    | sro   | czwa  | pio   |\n",
    "|------|--------|-------|-------|-------|\n",
    "| 2    | 1      | 1     |  1    | 3     |\n",
    "\n",
    "\n",
    "Stworzyć taki grafik, aby wartośc wypłat była jak najniższa "
   ]
  },
  {
   "cell_type": "code",
   "execution_count": null,
   "metadata": {},
   "outputs": [],
   "source": [
    "!pip install pulp\n",
    "!sudo apt-get install coinor-cbc glpk-utils coinor-clp"
   ]
  },
  {
   "cell_type": "code",
   "execution_count": 5,
   "metadata": {},
   "outputs": [
    {
     "name": "stdout",
     "output_type": "stream",
     "text": [
      "2.3.1\n"
     ]
    }
   ],
   "source": [
    "import pulp\n",
    "print(pulp.__version__)"
   ]
  },
  {
   "cell_type": "code",
   "execution_count": 4,
   "metadata": {},
   "outputs": [
    {
     "name": "stdout",
     "output_type": "stream",
     "text": [
      "Status: Optimal\n",
      "\n",
      "Minimalna wartośc wypłat: 2040.0 PLN\n"
     ]
    }
   ],
   "source": [
    "from pulp import *\n",
    "import pandas as pd\n",
    "\n",
    "pracownicy = {\n",
    "    'ANIA':{'dni':['pn','wt','sr','czw','pt'],'placa': 100},\n",
    "    'STEFAN':{'dni':['pn'],'placa': 50},\n",
    "    'HEKTOR':{'dni':['pn','wt','sr'],'placa': 60},\n",
    "    'OLAF':{'dni':['pn','wt','sr','czw','pt'],'placa': 40},\n",
    "    'LIDIA':{'dni':['czw','pt'],'placa': 110},\n",
    "    'PIOTR':{'dni':['pn','wt','sr'],'placa': 70},\n",
    "}\n",
    "\n",
    "liczbaPracownikow = {\n",
    "    'pn': 2,\n",
    "    'wt': 1,\n",
    "    'sr': 1,\n",
    "    'czw': 1,\n",
    "    'pt': 3\n",
    "}\n",
    "tydzien = ['pn','wt','sr','czw','pt']\n",
    "\n",
    "vars = LpVariable.dicts('x', (pracownicy.keys(), tydzien),\n",
    "                            lowBound = 0,\n",
    "                            upBound = 1,\n",
    "                            cat = 'Integer')\n",
    "\n",
    "\n",
    "\n",
    "prob = LpProblem(\"Praca_Model\", LpMinimize)\n",
    "\n",
    "prob += 4*lpSum(pracownicy[pracownik]['placa']*lpSum(vars[pracownik][dzien] for dzien in tydzien) for pracownik in pracownicy)\n",
    "\n",
    "\n",
    "for pracownik in pracownicy:\n",
    "  temp = 0\n",
    "  for dzien in tydzien:\n",
    "    if dzien not in pracownicy[pracownik][\"dni\"]:\n",
    "      temp += vars[pracownik][dzien]\n",
    "  prob += temp == 0\n",
    "\n",
    "for dzien in tydzien:\n",
    "  prob += lpSum(vars[pracownik][dzien] for pracownik in pracownicy) >= liczbaPracownikow[dzien]\n",
    "\n",
    "for pracownik in pracownicy:\n",
    "  prob += lpSum(vars[pracownik][dzien] for dzien in tydzien) <= 3\n",
    "  prob += lpSum(vars[pracownik][dzien] for dzien in tydzien) >= 1\n",
    "\n",
    "prob.writeLP(\"schedule.lp\")\n",
    "prob.solve()\n",
    "\n",
    "print(\"Status:\", LpStatus[prob.status])\n",
    "print()\n",
    "print(\"Minimalna wartośc wypłat:\", value(prob.objective), \"PLN\",)\n",
    "\n"
   ]
  },
  {
   "cell_type": "code",
   "execution_count": null,
   "metadata": {},
   "outputs": [],
   "source": []
  },
  {
   "cell_type": "code",
   "execution_count": null,
   "metadata": {},
   "outputs": [],
   "source": []
  },
  {
   "cell_type": "code",
   "execution_count": null,
   "metadata": {},
   "outputs": [],
   "source": []
  }
 ],
 "metadata": {
  "kernelspec": {
   "display_name": "Python 3",
   "language": "python",
   "name": "python3"
  },
  "language_info": {
   "codemirror_mode": {
    "name": "ipython",
    "version": 3
   },
   "file_extension": ".py",
   "mimetype": "text/x-python",
   "name": "python",
   "nbconvert_exporter": "python",
   "pygments_lexer": "ipython3",
   "version": "3.8.3"
  }
 },
 "nbformat": 4,
 "nbformat_minor": 4
}
