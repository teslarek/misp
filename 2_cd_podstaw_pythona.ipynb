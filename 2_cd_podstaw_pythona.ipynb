{
 "cells": [
  {
   "cell_type": "markdown",
   "metadata": {},
   "source": [
    "##### challenge \n",
    "\n",
    "Stworz typ NumerTelefonu\n",
    "\n",
    " -- przy tworzeniu sprawdza czy właściwy numer (Polski) jeśli nie pisze, że error (ew. Exception)\n",
    " \n",
    " -- gdy printuję to mi pisze polskimi słowami i.e. \"jeden, pięć, siedem, zero\"\n",
    " \n",
    " -- gdy wywołuję właściwość wojewodzwtwo, podaje mi wojewodztwo ew. ze to komorkowy"
   ]
  },
  {
   "cell_type": "code",
   "execution_count": 1,
   "metadata": {},
   "outputs": [
    {
     "name": "stdout",
     "output_type": "stream",
     "text": [
      "********************\n",
      "challenge 1\n",
      "********************\n",
      "poprawny numer\n",
      "Piotrków Trybunalski\n",
      "cztery cztery sześć trzy jeden dziewięć dwa dziewięć dwa \n"
     ]
    }
   ],
   "source": [
    "print('*'*20)\n",
    "print('challenge 1')\n",
    "print('*'*20)\n",
    "\n",
    "\n",
    "wojewodztwa = {12:\"Kraków\",13:\"Krosno\",14:\"Tarnów\",15:\"Tarnobrzeg\",16:\"Przemyśl\",17:\"Rzeszów\",18:\"Nowy Sącz\",22:\"Warszawa\",23:\"Ciechanów\",\n",
    "               24:\"Płock\",25:\"Siedlce\",29:\"Ostrołęka\",32:\"Katowice\",33:\"Bielsko-Biała\",34:\"Częstochowa\",41:\"Kielce\",42:\"Łódź\",43:\"Sieradz\",\n",
    "               44:\"Piotrków Trybunalski\",46:\"Skierniewice\",48:\"Radom\",52:\"Bydgoszcz\",54:\"Włocławek\",55:\"Elbląg\",56:\"Toruń\",58:\"Gdańsk\",\n",
    "               59:\"Słupsk\",61:\"Poznań\",62:\"Kalisz\",63:\"Konin\",65:\"Leszno\",67:\"Piła\",68:\"Zielona Góra\",71:\"Wrocław\",74:\"Wałbrzych\",75:\"Jelenia Góra\",\n",
    "               76:\"Legnica\",77:\"Opole\",81:\"Lublin\",82:\"Chełm\",83:\"Bielsko-Biała\",84:\"Zamość\",85:\"Białystok\",86:\"Łomża\",87:\"Suwałki\",89:\"Olsztyn\",\n",
    "               91:\"Szczecin\",94:\"Koszalin\",95:\"Gorzów Wielkopolski\"}\n",
    "\n",
    "numery = {\"0\":\"zero \",\"1\":\"jeden \",\"2\":\"dwa \",\"3\":\"trzy \",\"4\":\"cztery \",\"5\":\"pięć \",\"6\":\"sześć \",\"7\":\"siedem \",\"8\":\"osiem \",\"9\":\"dziewięć \"}\n",
    "\n",
    "class NumerTelefonu():\n",
    "  def __init__(self,nr_telefonu):\n",
    "    self.nr_telefonu = nr_telefonu\n",
    "    kierunkowy = (int(nr_telefonu[0:2]))\n",
    "    if (len(nr_telefonu) != 9):\n",
    "      print(\"niepoprawny numer\")\n",
    "    else:\n",
    "      (print(\"poprawny numer\"))\n",
    "\n",
    "      if (kierunkowy in wojewodztwa.keys()):\n",
    "        self.wojewodztwo = wojewodztwa[kierunkowy]\n",
    "      else: \n",
    "        self.wojewodztwo = \"brak danych\"\n",
    "\n",
    "  def __repr__(self):\n",
    "    nr_telefonu=self.nr_telefonu\n",
    "    telefon_do_text = \"\"\n",
    "    for x in range(9):\n",
    "      telefon_do_text += numery[nr_telefonu[x]]\n",
    "    return telefon_do_text\n",
    "\n",
    "\n",
    "numer_lodz = NumerTelefonu(\"446319292\")\n",
    "print(numer_lodz.wojewodztwo)\n",
    "print(numer_lodz)"
   ]
  },
  {
   "cell_type": "code",
   "execution_count": null,
   "metadata": {},
   "outputs": [],
   "source": []
  }
 ],
 "metadata": {
  "kernelspec": {
   "display_name": "Python 3",
   "language": "python",
   "name": "python3"
  },
  "language_info": {
   "codemirror_mode": {
    "name": "ipython",
    "version": 3
   },
   "file_extension": ".py",
   "mimetype": "text/x-python",
   "name": "python",
   "nbconvert_exporter": "python",
   "pygments_lexer": "ipython3",
   "version": "3.8.3"
  }
 },
 "nbformat": 4,
 "nbformat_minor": 4
}
